{
 "cells": [
  {
   "cell_type": "code",
   "execution_count": 36,
   "id": "aa254cdc",
   "metadata": {},
   "outputs": [],
   "source": [
    "using Printf\n",
    "Base.show(io::IO, f::Float64) = @printf(io, \"%.3e\", f)\n",
    "using LinearAlgebra\n",
    "using SparseArrays\n",
    "using Random\n",
    "\n",
    "using BenchmarkTools\n",
    "using Base.Threads"
   ]
  },
  {
   "cell_type": "code",
   "execution_count": 7,
   "id": "d84862ce",
   "metadata": {},
   "outputs": [
    {
     "data": {
      "text/plain": [
       "1"
      ]
     },
     "execution_count": 7,
     "metadata": {},
     "output_type": "execute_result"
    }
   ],
   "source": [
    "#=AJUSTE DE NUMERO DE HILOS \n",
    "\n",
    "nthreads = 2, 4, 6, 8, 16, 32\n",
    "\n",
    "\n",
    "export JULIA_NUM_THREADS=4   # Linux  \n",
    "set JULIA_NUM_THREADS=4      # CMD Windows  \n",
    "\n",
    "$ julia --threads 4\n",
    "julia> Threads.nthreads()\n",
    "julia> Threads.threadid()\n",
    "\n",
    "=#\n",
    "\n",
    "\n",
    "Threads.nthreads()      #numero de hilos\n",
    "Threads.threadid()"
   ]
  },
  {
   "cell_type": "markdown",
   "id": "627e149e",
   "metadata": {},
   "source": [
    "### Ejemplos de sistemas de ecuaciones\n",
    "### Casos diagonal dominante para una convergencia mas rapida"
   ]
  },
  {
   "cell_type": "code",
   "execution_count": 8,
   "id": "9ee62040",
   "metadata": {},
   "outputs": [
    {
     "data": {
      "text/plain": [
       "3-element Vector{Float64}:\n",
       " -1.000e+00\n",
       "  0.000e+00\n",
       "  2.000e+00"
      ]
     },
     "execution_count": 8,
     "metadata": {},
     "output_type": "execute_result"
    }
   ],
   "source": [
    "# sistema de ecuaciones Ax=b 3x3\n",
    "# CASO DIAGONAL DOMINANTE PARA UNA RAPIDA CONVERGENCIA\n",
    "A = [3 -2 0; 1 3 -1; 2 1 4]\n",
    "b = [-3, -3, 6]\n",
    "A\\b"
   ]
  },
  {
   "cell_type": "code",
   "execution_count": null,
   "id": "d0be7720",
   "metadata": {},
   "outputs": [],
   "source": [
    "# sistema de ecuaciones Ax=b 3x3\n",
    "\n",
    "# CASO DIAGONAL DOMINANTE PARA UNA RAPIDA CONVERGENCIA\n",
    "#=cada elemento de la diagonal es mayor que el modulo de la suma de los otros elementos \n",
    "  en este renglon\n",
    "\n",
    "  el valor absoluto del termino sobre la diagonal es mayor que o igual a la suma de valores absolutos del resto\n",
    "  de los terminos en ese renglon\n",
    "=#\n",
    "\n",
    "A = [5 2 1; 0 -3 2; -4 1 6]\n",
    "b = [1, 0, -1]\n",
    "A\\b"
   ]
  },
  {
   "cell_type": "code",
   "execution_count": null,
   "id": "ecc0cb0b",
   "metadata": {},
   "outputs": [],
   "source": [
    "#sistema de ecuaciones 4x4\n",
    "# CASO DIAGONAL DOMINANTE PARA UNA RAPIDA CONVERGENCIA\n",
    "A = [ 10  2  -1  2;\n",
    "       1  5   1  0;\n",
    "       1 -2  -5  1;\n",
    "       3  0   0  9 ]\n",
    "\n",
    "b = [-4, 1, 2, 10]\n",
    "#@time A\\b\n",
    "A"
   ]
  },
  {
   "cell_type": "code",
   "execution_count": 9,
   "id": "95377a8a",
   "metadata": {},
   "outputs": [
    {
     "data": {
      "text/plain": [
       "true"
      ]
     },
     "execution_count": 9,
     "metadata": {},
     "output_type": "execute_result"
    }
   ],
   "source": [
    "# revisa si una matriz es diagonalmente dominante \n",
    "all(sum(abs.(A),dims=2) .<= 2abs.(diag(A)))"
   ]
  },
  {
   "cell_type": "markdown",
   "id": "a0fe4041",
   "metadata": {},
   "source": [
    "### Generador de matrices aleatorias"
   ]
  },
  {
   "cell_type": "code",
   "execution_count": null,
   "id": "4cbaed63",
   "metadata": {},
   "outputs": [],
   "source": [
    "#generador de matrices aleatorias 1\n",
    "\n",
    "#=DATOS PARA LAS PRUEBAS\n",
    "\n",
    "dimensiones 20, 40, 60, 80, 100\n",
    "=#\n",
    "\n",
    "\n",
    "print(\"Dar la dimension del sistema de ecuaciones: \")\n",
    "line = readline(stdin)\n",
    "dim = parse(Int, line)\n",
    "Random.seed!(123);\n",
    "mat = rand(dim, dim)\n",
    "# ------------------------------------------------\n",
    "#mat = sprand(dim,dim,2/5)\n",
    "#mat=Matrix(mat)\n",
    "# -----------------------------------------\n",
    "#matriz dispersa\n",
    "brow = randperm!(MersenneTwister(1234), Vector{Int}(undef, dim))\n",
    "bcol = randperm!(MersenneTwister(1234), Vector{Int}(undef, dim))\n",
    "data = randperm!(MersenneTwister(1234), Vector{Int}(undef, dim))\n",
    "\n",
    "sparseA = sparse(brow, bcol, data, dim, dim)    \n",
    "#definicion de matriz dispersa A\n",
    "sparseA =Matrix(sparseA)\n",
    "mat = float(sparseA)\n",
    "mat = trunc.(Int,mat)   #regresa el valor entero mas proximo del mismo tipo a 'mat'\n",
    "\n",
    "\n",
    "# revisa si una matriz es diagonalmente dominante \n",
    "all(sum(abs.(mat),dims=2) .<= 2abs.(diag(mat)))\n",
    "\n",
    "\n",
    "# -----------------------------------------------------------------\n",
    "# paso de parametros por el generador de matrices aleatorias 1\n",
    "\n",
    "A = mat\n",
    "b = bcol\n",
    "# ------------------------------------------------------------------"
   ]
  },
  {
   "cell_type": "markdown",
   "id": "979a79bf",
   "metadata": {},
   "source": [
    "### Calculo de las matrices auxiliares"
   ]
  },
  {
   "cell_type": "code",
   "execution_count": 10,
   "id": "47c8233f",
   "metadata": {},
   "outputs": [
    {
     "data": {
      "text/plain": [
       "3×3 Matrix{Float64}:\n",
       "  2.549e-01   1.569e-01  3.922e-02\n",
       " -1.176e-01   2.353e-01  5.882e-02\n",
       " -9.804e-02  -1.373e-01  2.157e-01"
      ]
     },
     "execution_count": 10,
     "metadata": {},
     "output_type": "execute_result"
    }
   ],
   "source": [
    "# prueba para el algoritmo MCMC\n",
    "inv(A)"
   ]
  },
  {
   "cell_type": "code",
   "execution_count": 14,
   "id": "064e7db8",
   "metadata": {},
   "outputs": [
    {
     "data": {
      "text/plain": [
       "calculosauxialiares (generic function with 1 method)"
      ]
     },
     "execution_count": 14,
     "metadata": {},
     "output_type": "execute_result"
    }
   ],
   "source": [
    "#calculo de las matrices auxilliares\n",
    "function calculosauxialiares(A, b)\n",
    "    \n",
    "    \n",
    "    global nA = norm(A)\n",
    "    \n",
    "    global M = diagm(0 => diag(A))\n",
    "    \n",
    "    global N = M-A   #obtener el numero de cadenas de Markov\n",
    "    \n",
    "    global T = inv(M) * N\n",
    "    \n",
    "    global f = inv(M) * b    \n",
    "end"
   ]
  },
  {
   "cell_type": "code",
   "execution_count": 15,
   "id": "72177e54",
   "metadata": {},
   "outputs": [
    {
     "data": {
      "text/plain": [
       "3-element Vector{Float64}:\n",
       " -1.000e+00\n",
       " -1.000e+00\n",
       "  1.500e+00"
      ]
     },
     "execution_count": 15,
     "metadata": {},
     "output_type": "execute_result"
    }
   ],
   "source": [
    "calculosauxialiares(A, b)"
   ]
  },
  {
   "cell_type": "markdown",
   "id": "fa246b12",
   "metadata": {},
   "source": [
    "### Algoritmo MCMC para el cálculo del vector solución"
   ]
  },
  {
   "cell_type": "code",
   "execution_count": 16,
   "id": "2d594ba0",
   "metadata": {},
   "outputs": [
    {
     "data": {
      "text/plain": [
       "3×3 Matrix{Float64}:\n",
       "  0.000e+00   6.667e-01  0.000e+00\n",
       " -3.333e-01   0.000e+00  3.333e-01\n",
       " -5.000e-01  -2.500e-01  0.000e+00"
      ]
     },
     "execution_count": 16,
     "metadata": {},
     "output_type": "execute_result"
    }
   ],
   "source": [
    "T"
   ]
  },
  {
   "cell_type": "code",
   "execution_count": 17,
   "id": "da6ed1fe",
   "metadata": {},
   "outputs": [
    {
     "data": {
      "text/plain": [
       "3-element Vector{Float64}:\n",
       " -1.000e+00\n",
       " -1.000e+00\n",
       "  1.500e+00"
      ]
     },
     "execution_count": 17,
     "metadata": {},
     "output_type": "execute_result"
    }
   ],
   "source": [
    "f"
   ]
  },
  {
   "cell_type": "code",
   "execution_count": 19,
   "id": "fc3c1b31",
   "metadata": {},
   "outputs": [
    {
     "data": {
      "text/plain": [
       "(3, 3)"
      ]
     },
     "execution_count": 19,
     "metadata": {},
     "output_type": "execute_result"
    }
   ],
   "source": [
    "# paso de parametros\n",
    "nT, mT = size(T)"
   ]
  },
  {
   "cell_type": "markdown",
   "id": "86e8a7ce",
   "metadata": {},
   "source": [
    "### matriz de probabilidad 𝑃 y el vector inicial de probabilidad 𝑝"
   ]
  },
  {
   "cell_type": "code",
   "execution_count": 20,
   "id": "6f7d9f50",
   "metadata": {},
   "outputs": [
    {
     "data": {
      "text/plain": [
       "3-element Vector{Int64}:\n",
       " 1\n",
       " 2\n",
       " 2"
      ]
     },
     "execution_count": 20,
     "metadata": {},
     "output_type": "execute_result"
    }
   ],
   "source": [
    "S = fill(0, nT);\n",
    "[S[i] += 1 for i in 1:nT, j in 1:mT if T[i,j] != 0];\n",
    "S"
   ]
  },
  {
   "cell_type": "code",
   "execution_count": 21,
   "id": "3c06d692",
   "metadata": {},
   "outputs": [
    {
     "data": {
      "text/plain": [
       "3×3 Matrix{Float64}:\n",
       " 0.000e+00  1.000e+00  0.000e+00\n",
       " 5.000e-01  0.000e+00  5.000e-01\n",
       " 5.000e-01  5.000e-01  0.000e+00"
      ]
     },
     "execution_count": 21,
     "metadata": {},
     "output_type": "execute_result"
    }
   ],
   "source": [
    "P = fill(0., nT, mT)\n",
    "[P[i,j]= 1/S[i] for i in 1:nT, j in 1:mT if T[i,j] != 0 ]\n",
    "P"
   ]
  },
  {
   "cell_type": "code",
   "execution_count": 22,
   "id": "c6135209",
   "metadata": {},
   "outputs": [
    {
     "data": {
      "text/plain": [
       "3-element Vector{Float64}:\n",
       " 3.333e-01\n",
       " 3.333e-01\n",
       " 3.333e-01"
      ]
     },
     "execution_count": 22,
     "metadata": {},
     "output_type": "execute_result"
    }
   ],
   "source": [
    "Pi = [1/nT for i in 1:nT]"
   ]
  },
  {
   "cell_type": "markdown",
   "id": "d8aca155",
   "metadata": {},
   "source": [
    "Definimos el error de exactitud 𝜖 y el error estadístico 𝛿 "
   ]
  },
  {
   "cell_type": "code",
   "execution_count": 23,
   "id": "2e397e27",
   "metadata": {},
   "outputs": [
    {
     "data": {
      "text/plain": [
       "1.000e-01"
      ]
     },
     "execution_count": 23,
     "metadata": {},
     "output_type": "execute_result"
    }
   ],
   "source": [
    "# valores de epsilon para pruebas\n",
    "# 0.05 0.06 0.07 0.08 0.09 0.10 \n",
    "\n",
    "#=EXPERIMENTO 1\n",
    "\n",
    "epsilon = 0.1\n",
    "delta = 5\n",
    "=#\n",
    "\n",
    "ϵ = 0.01  \n",
    "δ = 0.1 "
   ]
  },
  {
   "cell_type": "markdown",
   "id": "05ddc7d2",
   "metadata": {},
   "source": [
    "El número  𝑁  de cadenas de Markov"
   ]
  },
  {
   "cell_type": "code",
   "execution_count": 24,
   "id": "36c12f04",
   "metadata": {},
   "outputs": [
    {
     "data": {
      "text/plain": [
       "1.763e+06"
      ]
     },
     "execution_count": 24,
     "metadata": {},
     "output_type": "execute_result"
    }
   ],
   "source": [
    "N = floor((0.6745/δ)^2*((norm(f)^2)/(1-norm(T))^2)) + 1\n",
    "\n",
    "#valor de prueba para el numero N de cadenas de Markov\n",
    "# N = 100\n",
    "\n",
    "\n",
    "# Otros enfoques consideran la cota inferior:\n",
    "#N = floor((0.6745/δ)^2*(1/(1-norm(T))^2))"
   ]
  },
  {
   "cell_type": "markdown",
   "id": "816944de",
   "metadata": {},
   "source": [
    "Algoritmo MCMC serial"
   ]
  },
  {
   "cell_type": "code",
   "execution_count": 25,
   "id": "60c64359",
   "metadata": {},
   "outputs": [
    {
     "data": {
      "text/plain": [
       "mcmcserial (generic function with 1 method)"
      ]
     },
     "execution_count": 25,
     "metadata": {},
     "output_type": "execute_result"
    }
   ],
   "source": [
    "function mcmcserial(ϵ, N)\n",
    "    Xs = fill(0., mT)\n",
    "    for i in 1:mT  # ---------inicio de region paralela  for 1\n",
    "        W_0 = 1\n",
    "        for s in 1:N  #for 2 \n",
    "            #local W_0 = 1\n",
    "            W = W_0\n",
    "            k = 0\n",
    "            point = i\n",
    "            X = W_0 * f[i]\n",
    "\n",
    "            while abs(W) >= ϵ\n",
    "                # generar un r.v sig punto distribuido sobre el i -th\n",
    "                # renglon de la matriz P como:\n",
    "                nextpoint  = 1\n",
    "                u = rand()\n",
    "                #println(u)\n",
    "                while u >= sum(P[point, 1:nextpoint])\n",
    "                     nextpoint = nextpoint + 1\n",
    "                    #println(nextpoint)\n",
    "                end\n",
    "                k = k + 1\n",
    "                if T[point, nextpoint] != 0 \n",
    "\n",
    "                    W_new = W *(T[point, nextpoint]/P[point, nextpoint])\n",
    "                    X = X + W_new * f[nextpoint]\n",
    "\n",
    "                end\n",
    "                point = nextpoint\n",
    "                W = W_new\n",
    "            end  # fin de while \n",
    "        Xs[i] += X\n",
    "        end              # fin for 2\n",
    "    end                 # ------------ fin de region paralela fin for 1 \n",
    "    Xs = Xs/N\n",
    "end"
   ]
  },
  {
   "cell_type": "code",
   "execution_count": 26,
   "id": "c511b3da",
   "metadata": {},
   "outputs": [
    {
     "data": {
      "text/plain": [
       "3×3 Matrix{Int64}:\n",
       " 3  -2   0\n",
       " 1   3  -1\n",
       " 2   1   4"
      ]
     },
     "execution_count": 26,
     "metadata": {},
     "output_type": "execute_result"
    }
   ],
   "source": [
    "A"
   ]
  },
  {
   "cell_type": "code",
   "execution_count": 27,
   "id": "5a41e3be",
   "metadata": {},
   "outputs": [
    {
     "data": {
      "text/plain": [
       "3-element Vector{Int64}:\n",
       " -3\n",
       " -3\n",
       "  6"
      ]
     },
     "execution_count": 27,
     "metadata": {},
     "output_type": "execute_result"
    }
   ],
   "source": [
    "b "
   ]
  },
  {
   "cell_type": "code",
   "execution_count": 37,
   "id": "53bf9e6d",
   "metadata": {},
   "outputs": [
    {
     "name": "stdout",
     "output_type": "stream",
     "text": [
      "  35.510 s (1158509870 allocations: 25.37 GiB)\n"
     ]
    },
    {
     "data": {
      "text/plain": [
       "3-element Vector{Float64}:\n",
       " -9.954e-01\n",
       "  2.657e-03\n",
       "  1.997e+00"
      ]
     },
     "execution_count": 37,
     "metadata": {},
     "output_type": "execute_result"
    }
   ],
   "source": [
    "Xs1 = @btime mcmcserial(ϵ, N)"
   ]
  },
  {
   "cell_type": "code",
   "execution_count": 30,
   "id": "3fcd36e6",
   "metadata": {},
   "outputs": [
    {
     "data": {
      "text/plain": [
       "1.490e-02"
      ]
     },
     "execution_count": 30,
     "metadata": {},
     "output_type": "execute_result"
    }
   ],
   "source": [
    "norm(b-A*Xs1)"
   ]
  },
  {
   "cell_type": "markdown",
   "id": "7435947c",
   "metadata": {},
   "source": [
    "Algoritmo MCMC paralelo"
   ]
  },
  {
   "cell_type": "code",
   "execution_count": 31,
   "id": "c28746f4",
   "metadata": {},
   "outputs": [
    {
     "data": {
      "text/plain": [
       "mcmcparalelo (generic function with 1 method)"
      ]
     },
     "execution_count": 31,
     "metadata": {},
     "output_type": "execute_result"
    }
   ],
   "source": [
    "function mcmcparalelo(ϵ, N)\n",
    "    Xs = fill(0., mT)\n",
    "    Threads.@threads for i in 1:mT  # ---------inicio de region paralela  for 1\n",
    "        W_0 = 1\n",
    "        for s in 1:N  #for 2 \n",
    "            #local W_0 = 1\n",
    "            local W = W_0\n",
    "            local k = 0\n",
    "            local point = i\n",
    "            local X = W_0 * f[i]\n",
    "\n",
    "            while abs(W) >= ϵ\n",
    "                # generar un r.v sig punto distribuido sobre el i -th\n",
    "                # renglon de la matriz P como:\n",
    "                nextpoint  = 1\n",
    "                u = rand()\n",
    "                #println(u)\n",
    "                while u >= sum(P[point, 1:nextpoint])\n",
    "                     nextpoint = nextpoint + 1\n",
    "                    #println(nextpoint)\n",
    "                end\n",
    "                k = k + 1\n",
    "                if T[point, nextpoint] != 0 \n",
    "                    #=desactivar el chequeo de limites con @inbounds \n",
    "                      reduce el tiempo de ejecucion\n",
    "                    =#                       \n",
    "                    @inbounds W_new = W *(T[point, nextpoint]/P[point, nextpoint])\n",
    "                    @inbounds X = X + W_new * f[nextpoint]\n",
    "                end\n",
    "                point = nextpoint\n",
    "                W = W_new\n",
    "            end  # fin de while \n",
    "        Xs[i] += X\n",
    "        end              # fin for 2\n",
    "    end                 # ------------ fin de region paralela fin for 1 \n",
    "    Xs = Xs/N\n",
    "end"
   ]
  },
  {
   "cell_type": "code",
   "execution_count": 32,
   "id": "3947cd18",
   "metadata": {},
   "outputs": [
    {
     "data": {
      "text/plain": [
       "3×3 Matrix{Int64}:\n",
       " 3  -2   0\n",
       " 1   3  -1\n",
       " 2   1   4"
      ]
     },
     "execution_count": 32,
     "metadata": {},
     "output_type": "execute_result"
    }
   ],
   "source": [
    "A"
   ]
  },
  {
   "cell_type": "code",
   "execution_count": 33,
   "id": "a4123e62",
   "metadata": {},
   "outputs": [
    {
     "data": {
      "text/plain": [
       "3-element Vector{Int64}:\n",
       " -3\n",
       " -3\n",
       "  6"
      ]
     },
     "execution_count": 33,
     "metadata": {},
     "output_type": "execute_result"
    }
   ],
   "source": [
    "b"
   ]
  },
  {
   "cell_type": "code",
   "execution_count": 34,
   "id": "25677569",
   "metadata": {},
   "outputs": [
    {
     "ename": "LoadError",
     "evalue": "LoadError: UndefVarError: @btime not defined\nin expression starting at In[34]:1",
     "output_type": "error",
     "traceback": [
      "LoadError: UndefVarError: @btime not defined\nin expression starting at In[34]:1",
      "",
      "Stacktrace:",
      " [1] top-level scope",
      "   @ :0",
      " [2] eval",
      "   @ .\\boot.jl:373 [inlined]",
      " [3] include_string(mapexpr::typeof(REPL.softscope), mod::Module, code::String, filename::String)",
      "   @ Base .\\loading.jl:1196"
     ]
    }
   ],
   "source": [
    "Xs2 = @btime mcmcparalelo(ϵ, N)"
   ]
  },
  {
   "cell_type": "code",
   "execution_count": null,
   "id": "bce24b11",
   "metadata": {},
   "outputs": [],
   "source": [
    "norm(b-A*Xs2)"
   ]
  }
 ],
 "metadata": {
  "kernelspec": {
   "display_name": "Julia 1.7.1",
   "language": "julia",
   "name": "julia-1.7"
  },
  "language_info": {
   "file_extension": ".jl",
   "mimetype": "application/julia",
   "name": "julia",
   "version": "1.7.1"
  }
 },
 "nbformat": 4,
 "nbformat_minor": 5
}
