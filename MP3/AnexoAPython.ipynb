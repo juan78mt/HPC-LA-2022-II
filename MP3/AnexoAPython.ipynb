{
 "cells": [
  {
   "cell_type": "markdown",
   "id": "562202e5",
   "metadata": {},
   "source": [
    "# Anexo A - Python: Tamaño vs Núm Threads"
   ]
  },
  {
   "cell_type": "markdown",
   "id": "e85f9796",
   "metadata": {},
   "source": [
    "### Paquetes"
   ]
  },
  {
   "cell_type": "code",
   "execution_count": 1,
   "id": "8a7a8f1a",
   "metadata": {},
   "outputs": [],
   "source": [
    "#import threading\n",
    "import time\n",
    "import numpy as np\n",
    "import pandas as pd\n",
    "import multiprocessing as mp"
   ]
  },
  {
   "cell_type": "markdown",
   "id": "73edc461",
   "metadata": {},
   "source": [
    "### Funciones"
   ]
  },
  {
   "cell_type": "code",
   "execution_count": 2,
   "id": "887b5209",
   "metadata": {},
   "outputs": [],
   "source": [
    "def elementos_aux(A,b,δ):\n",
    "    \n",
    "    #Construcción de elementos auxiliares del sistema Ax = b.\n",
    "    #δ := precisión.\n",
    "    \n",
    "    #M es la matriz diagonal de A\n",
    "    M = np.diag(np.diag(A))\n",
    "    \n",
    "    #invM es la inversa de M\n",
    "    invM = np.linalg.inv(M)\n",
    "    \n",
    "    #A = M-N (factorización de A)\n",
    "    N = M - A\n",
    "    \n",
    "    #Matriz auxiliar T\n",
    "    T = np.dot(invM,N)\n",
    "    \n",
    "    #Matriz auxiliar F\n",
    "    f = np.dot(invM, b)\n",
    "    \n",
    "    #Dimensiones de la matriz T\n",
    "    nT, mT = T.shape\n",
    "    \n",
    "    #Matriz de Probabilidades de transición\n",
    "    ProbT = (T != 0)/np.apply_along_axis(sum,1,T != 0)[:,None]\n",
    "    \n",
    "    #Probailidades de los estados iniciales\n",
    "    Pi=(np.apply_along_axis(sum,1,T!=0)!=0)/sum((np.apply_along_axis(sum,1,T!=0)!=0))\n",
    "    \n",
    "    #Número de cadenas\n",
    "    NormT = np.linalg.norm(T)\n",
    "    NormF = np.linalg.norm(f)\n",
    "    N = np.floor(np.power(0.6745/δ,2)*np.power(NormF,2)/np.power(1-NormT,2))+1\n",
    "    N = int(N)\n",
    "    \n",
    "    return f, N, nT, T, Pi, ProbT"
   ]
  },
  {
   "cell_type": "code",
   "execution_count": 3,
   "id": "58b35584",
   "metadata": {},
   "outputs": [],
   "source": [
    "def MarkovChain(ϵ,i,f,P,T):\n",
    "    \n",
    "    #Simulando el estimados de una cadena de Markov\n",
    "    \n",
    "    #ϵ := Confianza.\n",
    "    #i := Indice sobre las filas de T.\n",
    "    #f := Matriz auxiliar f.\n",
    "    #P := Matriz con las probabilidades de transición.\n",
    "    #T := Matriz auxiliar T.\n",
    "    \n",
    "    #Inicializando las variables auxiliares\n",
    "    W_0 = 1\n",
    "    W = W_0\n",
    "    k = 0\n",
    "    point = i\n",
    "    #print(P[point,:])\n",
    "    X = W_0 * f[i]\n",
    "    \n",
    "    while np.absolute(W) >= ϵ:\n",
    "        \n",
    "        #Simulando el siguiente estado de la cadena\n",
    "        proba = P[point,:].flatten()\n",
    "        nextpoint = np.where(np.random.multinomial(1,proba) == 1)[0]\n",
    "        \n",
    "        #Avanzando el contador\n",
    "        k = k + 1\n",
    "        \n",
    "        #Actualizando X\n",
    "        if T[point, nextpoint] != 0:\n",
    "            W_new = W *(T[point, nextpoint]/P[point, nextpoint])\n",
    "            X = X + W_new * f[nextpoint]\n",
    "                   \n",
    "        #Actualizando la fila\n",
    "        point = nextpoint\n",
    "        W = W_new\n",
    "    \n",
    "    return X[0]"
   ]
  },
  {
   "cell_type": "code",
   "execution_count": 4,
   "id": "4c08575f",
   "metadata": {},
   "outputs": [],
   "source": [
    "def estimador(ϵ,i,f,ProbT,T,N):\n",
    "    return np.mean([MarkovChain(ϵ,i,f,ProbT,T) for s in range(0,N)])"
   ]
  },
  {
   "cell_type": "code",
   "execution_count": 5,
   "id": "1d206d90",
   "metadata": {},
   "outputs": [],
   "source": [
    "def MCMCPar(A,b,ϵ,δ,Nh):\n",
    "    \n",
    "    #Estimación de la solución del sistema de ec. Ax = b.\n",
    "    \n",
    "    #A := Matriz de coeficientes del sistema.\n",
    "    #b := Vector de constantes.\n",
    "    #ϵ := Precisión.\n",
    "    #δ := Confianza.\n",
    "    #Nh:= numero de hilos.\n",
    "    \n",
    "   \n",
    "    #Construcción de elementos auxiliares del sistema Ax = b.\n",
    "    f, N, nT, T, Pi, ProbT  = elementos_aux(A,b,δ)\n",
    "    \n",
    "    #Balanceando cargas\n",
    "    N = np.floor(N/Nh) + 1\n",
    "    N = int(N)\n",
    "\n",
    "    #Estimación del vector\n",
    "    x = np.empty([nT, 1])\n",
    "    #print(x.shape)\n",
    "    \n",
    "    if Nh == 1:\n",
    "        \n",
    "        for i in range(0,nT):\n",
    "            #i es un indice que corre sobre las filas\n",
    "            x[i] = estimador(ϵ,i,f,ProbT,T,N)\n",
    "            \n",
    "    else:\n",
    "        \n",
    "        args = [(ϵ,i,f,ProbT,T,N) for i in range(0,nT)] \n",
    "        with mp.Pool(processes=Nh) as pool:\n",
    "            x = pool.starmap(estimador, args)\n",
    "            \n",
    "    return x"
   ]
  },
  {
   "cell_type": "markdown",
   "id": "23a38ced",
   "metadata": {},
   "source": [
    "### Construcción del sistema de ecuaciones Ax = b."
   ]
  },
  {
   "cell_type": "code",
   "execution_count": 6,
   "id": "0890b03c",
   "metadata": {},
   "outputs": [],
   "source": [
    "def MatrixCoef(tam):\n",
    "    \n",
    "    #tam := Tamaño del sistema EQ\n",
    "    \n",
    "    #Matriz de coeficientes\n",
    "    #Construyendo las diagonales\n",
    "    A = np.diag([3 for i in range(0,tam)], k = 0)\n",
    "    A = A - np.diag([1 for i in range(0,tam-1)], k = 1)\n",
    "    A = A - np.diag([1 for i in range(0,tam-1)], k = -1)\n",
    "    \n",
    "    #Construyendo la anti-diagonal mayor\n",
    "    B = np.diag([0.5 for i in range(0,tam)])\n",
    "    i = int(np.floor(tam/2))\n",
    "    B[i,i] = 0\n",
    "    if tam % 2 == 0:\n",
    "        B[i-1,i-1] = 0\n",
    "    \n",
    "    B = np.fliplr(B)\n",
    "    \n",
    "    return A + B"
   ]
  },
  {
   "cell_type": "markdown",
   "id": "f730972a",
   "metadata": {},
   "source": [
    "## Ejemplo"
   ]
  },
  {
   "cell_type": "markdown",
   "id": "fcf33b93",
   "metadata": {},
   "source": [
    "#### Matriz de coeficientes (A)"
   ]
  },
  {
   "cell_type": "code",
   "execution_count": 7,
   "id": "d0838315",
   "metadata": {},
   "outputs": [
    {
     "data": {
      "text/plain": [
       "array([[ 3. , -1. ,  0. ,  0. ,  0. ,  0. ,  0.5],\n",
       "       [-1. ,  3. , -1. ,  0. ,  0. ,  0.5,  0. ],\n",
       "       [ 0. , -1. ,  3. , -1. ,  0.5,  0. ,  0. ],\n",
       "       [ 0. ,  0. , -1. ,  3. , -1. ,  0. ,  0. ],\n",
       "       [ 0. ,  0. ,  0.5, -1. ,  3. , -1. ,  0. ],\n",
       "       [ 0. ,  0.5,  0. ,  0. , -1. ,  3. , -1. ],\n",
       "       [ 0.5,  0. ,  0. ,  0. ,  0. , -1. ,  3. ]])"
      ]
     },
     "execution_count": 7,
     "metadata": {},
     "output_type": "execute_result"
    }
   ],
   "source": [
    "tam = 7\n",
    "A = MatrixCoef(tam)\n",
    "A"
   ]
  },
  {
   "cell_type": "markdown",
   "id": "360fe95f",
   "metadata": {},
   "source": [
    "#### Solución del sistema (x)"
   ]
  },
  {
   "cell_type": "code",
   "execution_count": 8,
   "id": "a311129d",
   "metadata": {},
   "outputs": [
    {
     "data": {
      "text/plain": [
       "array([1., 1., 1., 1., 1., 1., 1.])"
      ]
     },
     "execution_count": 8,
     "metadata": {},
     "output_type": "execute_result"
    }
   ],
   "source": [
    "x = [1.0 for i in range(0,tam)]\n",
    "x = np.array(x)\n",
    "x"
   ]
  },
  {
   "cell_type": "markdown",
   "id": "69c075af",
   "metadata": {},
   "source": [
    "#### Vector de coeficientes (b)"
   ]
  },
  {
   "cell_type": "code",
   "execution_count": 9,
   "id": "32fa172a",
   "metadata": {},
   "outputs": [
    {
     "data": {
      "text/plain": [
       "array([2.5, 1.5, 1.5, 1. , 1.5, 1.5, 2.5])"
      ]
     },
     "execution_count": 9,
     "metadata": {},
     "output_type": "execute_result"
    }
   ],
   "source": [
    "b = np.dot(A,x)\n",
    "b"
   ]
  },
  {
   "cell_type": "markdown",
   "id": "ceb03aa7",
   "metadata": {},
   "source": [
    "## Experimento"
   ]
  },
  {
   "cell_type": "markdown",
   "id": "ba9ded5a",
   "metadata": {},
   "source": [
    "#### Confianza"
   ]
  },
  {
   "cell_type": "code",
   "execution_count": 10,
   "id": "93b780ef",
   "metadata": {},
   "outputs": [],
   "source": [
    "ϵ = 0.1"
   ]
  },
  {
   "cell_type": "markdown",
   "id": "bec43c6a",
   "metadata": {},
   "source": [
    "#### Precisión"
   ]
  },
  {
   "cell_type": "code",
   "execution_count": 11,
   "id": "cf0fbfb7",
   "metadata": {},
   "outputs": [],
   "source": [
    "δ = 0.1"
   ]
  },
  {
   "cell_type": "code",
   "execution_count": 12,
   "id": "9c8a3580",
   "metadata": {},
   "outputs": [
    {
     "data": {
      "text/plain": [
       "[0.9738602866065432,\n",
       " 0.9578464439288251,\n",
       " 1.0091238179669029,\n",
       " 1.0529608388705667,\n",
       " 1.0620340880347119,\n",
       " 0.9128364598838395,\n",
       " 1.0197169687417913]"
      ]
     },
     "execution_count": 12,
     "metadata": {},
     "output_type": "execute_result"
    }
   ],
   "source": [
    "MCMCPar(A,b,ϵ,δ,8)"
   ]
  },
  {
   "cell_type": "markdown",
   "id": "6ddd6b3f",
   "metadata": {},
   "source": [
    "#### Simulaciones"
   ]
  },
  {
   "cell_type": "code",
   "execution_count": 13,
   "id": "f634f609",
   "metadata": {},
   "outputs": [
    {
     "data": {
      "text/html": [
       "<div>\n",
       "<style scoped>\n",
       "    .dataframe tbody tr th:only-of-type {\n",
       "        vertical-align: middle;\n",
       "    }\n",
       "\n",
       "    .dataframe tbody tr th {\n",
       "        vertical-align: top;\n",
       "    }\n",
       "\n",
       "    .dataframe thead th {\n",
       "        text-align: right;\n",
       "    }\n",
       "</style>\n",
       "<table border=\"1\" class=\"dataframe\">\n",
       "  <thead>\n",
       "    <tr style=\"text-align: right;\">\n",
       "      <th></th>\n",
       "      <th>Id</th>\n",
       "      <th>Tamanio</th>\n",
       "      <th>Nthreads</th>\n",
       "      <th>Tiempo</th>\n",
       "    </tr>\n",
       "  </thead>\n",
       "  <tbody>\n",
       "    <tr>\n",
       "      <th>0</th>\n",
       "      <td>0.0</td>\n",
       "      <td>20.0</td>\n",
       "      <td>1.0</td>\n",
       "      <td>0.0</td>\n",
       "    </tr>\n",
       "    <tr>\n",
       "      <th>1</th>\n",
       "      <td>1.0</td>\n",
       "      <td>20.0</td>\n",
       "      <td>2.0</td>\n",
       "      <td>0.0</td>\n",
       "    </tr>\n",
       "    <tr>\n",
       "      <th>2</th>\n",
       "      <td>2.0</td>\n",
       "      <td>20.0</td>\n",
       "      <td>4.0</td>\n",
       "      <td>0.0</td>\n",
       "    </tr>\n",
       "    <tr>\n",
       "      <th>3</th>\n",
       "      <td>3.0</td>\n",
       "      <td>20.0</td>\n",
       "      <td>8.0</td>\n",
       "      <td>0.0</td>\n",
       "    </tr>\n",
       "    <tr>\n",
       "      <th>4</th>\n",
       "      <td>4.0</td>\n",
       "      <td>20.0</td>\n",
       "      <td>16.0</td>\n",
       "      <td>0.0</td>\n",
       "    </tr>\n",
       "    <tr>\n",
       "      <th>...</th>\n",
       "      <td>...</td>\n",
       "      <td>...</td>\n",
       "      <td>...</td>\n",
       "      <td>...</td>\n",
       "    </tr>\n",
       "    <tr>\n",
       "      <th>2995</th>\n",
       "      <td>2995.0</td>\n",
       "      <td>100.0</td>\n",
       "      <td>2.0</td>\n",
       "      <td>0.0</td>\n",
       "    </tr>\n",
       "    <tr>\n",
       "      <th>2996</th>\n",
       "      <td>2996.0</td>\n",
       "      <td>100.0</td>\n",
       "      <td>4.0</td>\n",
       "      <td>0.0</td>\n",
       "    </tr>\n",
       "    <tr>\n",
       "      <th>2997</th>\n",
       "      <td>2997.0</td>\n",
       "      <td>100.0</td>\n",
       "      <td>8.0</td>\n",
       "      <td>0.0</td>\n",
       "    </tr>\n",
       "    <tr>\n",
       "      <th>2998</th>\n",
       "      <td>2998.0</td>\n",
       "      <td>100.0</td>\n",
       "      <td>16.0</td>\n",
       "      <td>0.0</td>\n",
       "    </tr>\n",
       "    <tr>\n",
       "      <th>2999</th>\n",
       "      <td>2999.0</td>\n",
       "      <td>100.0</td>\n",
       "      <td>32.0</td>\n",
       "      <td>0.0</td>\n",
       "    </tr>\n",
       "  </tbody>\n",
       "</table>\n",
       "<p>3000 rows × 4 columns</p>\n",
       "</div>"
      ],
      "text/plain": [
       "          Id  Tamanio  Nthreads  Tiempo\n",
       "0        0.0     20.0       1.0     0.0\n",
       "1        1.0     20.0       2.0     0.0\n",
       "2        2.0     20.0       4.0     0.0\n",
       "3        3.0     20.0       8.0     0.0\n",
       "4        4.0     20.0      16.0     0.0\n",
       "...      ...      ...       ...     ...\n",
       "2995  2995.0    100.0       2.0     0.0\n",
       "2996  2996.0    100.0       4.0     0.0\n",
       "2997  2997.0    100.0       8.0     0.0\n",
       "2998  2998.0    100.0      16.0     0.0\n",
       "2999  2999.0    100.0      32.0     0.0\n",
       "\n",
       "[3000 rows x 4 columns]"
      ]
     },
     "execution_count": 13,
     "metadata": {},
     "output_type": "execute_result"
    }
   ],
   "source": [
    "id_sim = [i for i in range(0,3000)]\n",
    "tam = [t for t in [20, 40, 60, 80, 100] for i in range(0,600)]\n",
    "nthreads = [nt for i in range(0,500) for nt in [1,2,4,8,16,32] ] \n",
    "tiempo = [0.00 for i in range(0,3000)]\n",
    "data = [id_sim,tam,nthreads,tiempo]\n",
    "data = pd.DataFrame(data)\n",
    "data = data.transpose()\n",
    "data.columns = [\"Id\",\"Tamanio\",\"Nthreads\",\"Tiempo\"]\n",
    "data"
   ]
  },
  {
   "cell_type": "code",
   "execution_count": 14,
   "id": "b9079c53",
   "metadata": {},
   "outputs": [
    {
     "name": "stdout",
     "output_type": "stream",
     "text": [
      "Fila: 0 de 3000\n",
      "Fila: 100 de 3000\n",
      "Fila: 200 de 3000\n",
      "Fila: 300 de 3000\n",
      "Fila: 400 de 3000\n",
      "Fila: 500 de 3000\n",
      "Fila: 600 de 3000\n",
      "Fila: 700 de 3000\n",
      "Fila: 800 de 3000\n",
      "Fila: 900 de 3000\n",
      "Fila: 1000 de 3000\n",
      "Fila: 1100 de 3000\n",
      "Fila: 1200 de 3000\n",
      "Fila: 1300 de 3000\n",
      "Fila: 1400 de 3000\n",
      "Fila: 1500 de 3000\n",
      "Fila: 1600 de 3000\n",
      "Fila: 1700 de 3000\n",
      "Fila: 1800 de 3000\n",
      "Fila: 1900 de 3000\n",
      "Fila: 2000 de 3000\n",
      "Fila: 2100 de 3000\n",
      "Fila: 2200 de 3000\n",
      "Fila: 2300 de 3000\n",
      "Fila: 2400 de 3000\n",
      "Fila: 2500 de 3000\n",
      "Fila: 2600 de 3000\n",
      "Fila: 2700 de 3000\n",
      "Fila: 2800 de 3000\n",
      "Fila: 2900 de 3000\n",
      "Fila: 2999 de 3000\n"
     ]
    }
   ],
   "source": [
    "for i in range(0,3000):\n",
    "    \n",
    "    #Simulaciones:\n",
    "    \n",
    "    #Construyendo la matriz de coeficientes\n",
    "    A = MatrixCoef(int(data.Tamanio[i]))\n",
    "    \n",
    "    #Construyendo la solución\n",
    "    x = [1.0 for i in range(0,int(data.Tamanio[i]))]\n",
    "    x = np.array(x)\n",
    "    \n",
    "    #Construyendo el vector de constantes\n",
    "    b = np.dot(A,x)\n",
    "    \n",
    "    #Tomando el tiempo inicial\n",
    "    t = time.time()\n",
    "    \n",
    "    MCMCPar(A,b,ϵ,δ,int(data.Nthreads[i]))\n",
    "    \n",
    "    #Guardando el tiempo\n",
    "    data.Tiempo[i] = time.time() - t\n",
    "    \n",
    "    if i % 100 == 0:\n",
    "        print(\"Fila:\",i,\"de 3000\")\n",
    "        data.to_csv(\"MiniP3_Python.csv\")\n",
    "    \n",
    "print(\"Fila:\",i,\"de 3000\")\n",
    "data.to_csv(\"MiniP3_Python_procesos.csv\")"
   ]
  }
 ],
 "metadata": {
  "kernelspec": {
   "display_name": "Python 3 (ipykernel)",
   "language": "python",
   "name": "python3"
  },
  "language_info": {
   "codemirror_mode": {
    "name": "ipython",
    "version": 3
   },
   "file_extension": ".py",
   "mimetype": "text/x-python",
   "name": "python",
   "nbconvert_exporter": "python",
   "pygments_lexer": "ipython3",
   "version": "3.7.11"
  }
 },
 "nbformat": 4,
 "nbformat_minor": 5
}
