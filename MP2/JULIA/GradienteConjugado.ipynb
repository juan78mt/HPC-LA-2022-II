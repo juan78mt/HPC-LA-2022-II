{
 "cells": [
  {
   "cell_type": "markdown",
   "id": "47bb024d",
   "metadata": {},
   "source": [
    "# Gradiente conjugado"
   ]
  },
  {
   "cell_type": "code",
   "execution_count": 74,
   "id": "31ccff74",
   "metadata": {},
   "outputs": [],
   "source": [
    "using Printf\n",
    "using LinearAlgebra"
   ]
  },
  {
   "cell_type": "code",
   "execution_count": 75,
   "id": "305c67ad",
   "metadata": {},
   "outputs": [
    {
     "data": {
      "text/plain": [
       "CGM (generic function with 4 methods)"
      ]
     },
     "execution_count": 75,
     "metadata": {},
     "output_type": "execute_result"
    }
   ],
   "source": [
    "function CGM(A::Array{Float64,2},b::Array{Float64,1},\n",
    "                x0::Array{Float64,1},\n",
    "                maxit::Int64=10,tol::Float64=1.0e-8,\n",
    "                verbose=true)\n",
    "    sol = deepcopy(x0)\n",
    "    r = b - A*sol\n",
    "    p = deepcopy(r)\n",
    "    if verbose\n",
    "        println(\"norm(r)     alpha        beta\")\n",
    "    end\n",
    "    for i=1:maxit\n",
    "        res = norm(r)\n",
    "        if verbose\n",
    "            sres = @printf(\"%.2e\", res)\n",
    "            print(\"$sres\")\n",
    "        end\n",
    "        if res < tol\n",
    "            if verbose\n",
    "                println(\"  succeded after \", i, \" steps\")\n",
    "            end\n",
    "            return (sol, res, i, false)\n",
    "        end\n",
    "        \n",
    "        alpha = (transpose(r)*r)/(transpose(p)*A*p)\n",
    "        if verbose\n",
    "            salpha = @sprintf(\"%.4e\", alpha)\n",
    "            print(\"  $salpha\")\n",
    "        end\n",
    "        sol = sol + alpha*p\n",
    "        r1 = r - alpha*A*p\n",
    "        beta = (transpose(r1)*r1)/(transpose(r)*r)\n",
    "        if verbose\n",
    "            sbeta = @sprintf(\"%.4e\", beta)\n",
    "            println(\"   $sbeta\")\n",
    "        end\n",
    "        p = r1 + beta*p\n",
    "        r = r1\n",
    "    end\n",
    "    return (sol, norm(r), maxit, true)\n",
    "end           "
   ]
  },
  {
   "cell_type": "code",
   "execution_count": 76,
   "id": "cf89751b",
   "metadata": {},
   "outputs": [
    {
     "name": "stdout",
     "output_type": "stream",
     "text": [
      "norm(r)     alpha        beta\n",
      "6.71e+00nothing  2.3810e-01   3.2653e-01\n",
      "3.83e+00nothing  7.0000e-01   0.0000e+00\n",
      "0.00e+00nothing  succeded after 3 steps\n",
      "([4.0, -1.0], 0.0, 3, false)\n"
     ]
    }
   ],
   "source": [
    "#datos de prueba\n",
    "mat = [2.0 2.0; 2.0 5.0]\n",
    "rhs = [6.0; 3.0]\n",
    "sol = [0.0; 0.0]\n",
    "res = CGM(mat, rhs, sol)\n",
    "println(res)"
   ]
  },
  {
   "cell_type": "code",
   "execution_count": 33,
   "id": "33ac0398",
   "metadata": {},
   "outputs": [
    {
     "data": {
      "text/plain": [
       "2-element Vector{Float64}:\n",
       " 0.0\n",
       " 0.0"
      ]
     },
     "execution_count": 33,
     "metadata": {},
     "output_type": "execute_result"
    }
   ],
   "source": [
    "sol"
   ]
  },
  {
   "cell_type": "code",
   "execution_count": 77,
   "id": "4392cb96",
   "metadata": {},
   "outputs": [
    {
     "data": {
      "text/plain": [
       "4-element Vector{Int64}:\n",
       " 2\n",
       " 1\n",
       " 4\n",
       " 3"
      ]
     },
     "execution_count": 77,
     "metadata": {},
     "output_type": "execute_result"
    }
   ],
   "source": [
    "using Random\n",
    "\n",
    "\n",
    "# 20, 40, 50, 80, 100\n",
    "n = 4     #dimension de la matriz\n",
    "b = randperm!(MersenneTwister(1234), Vector{Int}(undef, n))\n",
    "\n",
    "brow = randperm!(MersenneTwister(1234), Vector{Int}(undef, n))\n",
    "bcol = randperm!(MersenneTwister(1234), Vector{Int}(undef, n))\n",
    "data = randperm!(MersenneTwister(1234), Vector{Int}(undef, n))"
   ]
  },
  {
   "cell_type": "code",
   "execution_count": 78,
   "id": "be9b7087",
   "metadata": {},
   "outputs": [
    {
     "data": {
      "text/plain": [
       "4×4 Matrix{Int64}:\n",
       " 3  2  4  1\n",
       " 4  1  3  4\n",
       " 4  2  2  2\n",
       " 4  3  2  3"
      ]
     },
     "execution_count": 78,
     "metadata": {},
     "output_type": "execute_result"
    }
   ],
   "source": [
    "c = rand(b, (n, n))"
   ]
  },
  {
   "cell_type": "code",
   "execution_count": 26,
   "id": "8403abca",
   "metadata": {},
   "outputs": [
    {
     "data": {
      "text/plain": [
       "4×4 SparseMatrixCSC{Int64, Int64} with 4 stored entries:\n",
       " 1  ⋅  ⋅  ⋅\n",
       " ⋅  2  ⋅  ⋅\n",
       " ⋅  ⋅  3  ⋅\n",
       " ⋅  ⋅  ⋅  4"
      ]
     },
     "execution_count": 26,
     "metadata": {},
     "output_type": "execute_result"
    }
   ],
   "source": [
    "sparseA = sparse(brow, bcol, data, n, n)"
   ]
  },
  {
   "cell_type": "code",
   "execution_count": 28,
   "id": "e87acd2d",
   "metadata": {},
   "outputs": [
    {
     "data": {
      "text/plain": [
       "4×4 Matrix{Int64}:\n",
       " 1  0  0  0\n",
       " 0  2  0  0\n",
       " 0  0  3  0\n",
       " 0  0  0  4"
      ]
     },
     "execution_count": 28,
     "metadata": {},
     "output_type": "execute_result"
    }
   ],
   "source": [
    "#definicion de matriz dispersa A\n",
    "sparseA =Matrix(sparseA)"
   ]
  },
  {
   "cell_type": "code",
   "execution_count": 72,
   "id": "4658dea8",
   "metadata": {},
   "outputs": [
    {
     "data": {
      "text/plain": [
       "4×4 Matrix{Float64}:\n",
       " 1.0  0.0  0.0  0.0\n",
       " 0.0  2.0  0.0  0.0\n",
       " 0.0  0.0  3.0  0.0\n",
       " 0.0  0.0  0.0  4.0"
      ]
     },
     "execution_count": 72,
     "metadata": {},
     "output_type": "execute_result"
    }
   ],
   "source": [
    "sparseA = float(sparseA)"
   ]
  },
  {
   "cell_type": "code",
   "execution_count": 51,
   "id": "0dda5e9d",
   "metadata": {},
   "outputs": [
    {
     "data": {
      "text/plain": [
       "10-element Vector{Int64}:\n",
       "  2\n",
       "  1\n",
       "  7\n",
       "  9\n",
       "  5\n",
       " 10\n",
       "  4\n",
       "  8\n",
       "  6\n",
       "  3"
      ]
     },
     "execution_count": 51,
     "metadata": {},
     "output_type": "execute_result"
    }
   ],
   "source": [
    "rhsb = randperm!(MersenneTwister(1234), Vector{Int}(undef, 10))"
   ]
  },
  {
   "cell_type": "code",
   "execution_count": 62,
   "id": "73b7e884",
   "metadata": {},
   "outputs": [
    {
     "data": {
      "text/plain": [
       "5-element Vector{Float64}:\n",
       " 0.0\n",
       " 0.0\n",
       " 0.0\n",
       " 0.0\n",
       " 0.0"
      ]
     },
     "execution_count": 62,
     "metadata": {},
     "output_type": "execute_result"
    }
   ],
   "source": [
    "rh = float(rhsb)"
   ]
  },
  {
   "cell_type": "code",
   "execution_count": 52,
   "id": "d42b00d0",
   "metadata": {},
   "outputs": [
    {
     "data": {
      "text/plain": [
       "5-element Vector{Float64}:\n",
       " 0.0\n",
       " 0.0\n",
       " 0.0\n",
       " 0.0\n",
       " 0.0"
      ]
     },
     "execution_count": 52,
     "metadata": {},
     "output_type": "execute_result"
    }
   ],
   "source": [
    "#sol = randperm!(MersenneTwister(1234), Vector{Int}(undef, 10))\n",
    "sol = zeros(n) "
   ]
  },
  {
   "cell_type": "code",
   "execution_count": 68,
   "id": "d972cd25",
   "metadata": {},
   "outputs": [
    {
     "data": {
      "text/plain": [
       "20×20 Matrix{Float64}:\n",
       " 0.0          0.0       0.0       0.0       …  0.485182   0.16092   0.0\n",
       " 0.0          0.0       0.0       0.752798     0.0        0.709184  0.380373\n",
       " 0.0          0.223612  0.0       0.605669     0.297549   0.185511  0.886959\n",
       " 0.886926     0.893291  0.0       0.0          0.165256   0.0       0.0\n",
       " 0.0          0.164133  0.0       0.0          0.0        0.258971  0.0\n",
       " 0.264842     0.0       0.0       0.0       …  0.303143   0.0       0.395665\n",
       " 0.0410201    0.0       0.946461  0.0          0.0        0.0       0.860836\n",
       " 0.000278664  0.0       0.0       0.0          0.77689    0.0       0.150618\n",
       " 0.0798506    0.197825  0.828687  0.55859      0.337489   0.0       0.0\n",
       " 0.209536     0.0       0.0       0.398748     0.509302   0.0       0.99887\n",
       " 0.341529     0.0       0.582262  0.0       …  0.0        0.0       0.242317\n",
       " 0.802716     0.0       0.0       0.0          0.0        0.84655   0.0\n",
       " 0.0          0.0       0.392536  0.0          0.0486939  0.0       0.42045\n",
       " 0.0          0.913212  0.971514  0.950906     0.0        0.0       0.0\n",
       " 0.0          0.0       0.0       0.690384     0.126827   0.0       0.503227\n",
       " 0.0373312    0.0       0.0       0.221529  …  0.0        0.777078  0.0\n",
       " 0.0          0.162442  0.0       0.379028     0.105303   0.0       0.0\n",
       " 0.282779     0.154634  0.526906  0.381185     0.0        0.0       0.0\n",
       " 0.0          0.520679  0.0       0.0          0.0        0.783341  0.0314324\n",
       " 0.0          0.0       0.179234  0.0          0.826527   0.0       0.426501"
      ]
     },
     "execution_count": 68,
     "metadata": {},
     "output_type": "execute_result"
    }
   ],
   "source": [
    "using SparseArrays\n",
    "\n",
    "# 20, 40, 50, 80, 100\n",
    "n= 20\n",
    "A = sprand(n,n,2/5)\n",
    "A=Matrix(A)"
   ]
  },
  {
   "cell_type": "code",
   "execution_count": 69,
   "id": "9b82da73",
   "metadata": {},
   "outputs": [
    {
     "data": {
      "text/plain": [
       "20-element Vector{Float64}:\n",
       " 16.0\n",
       " 18.0\n",
       " 14.0\n",
       " 12.0\n",
       "  5.0\n",
       " 10.0\n",
       " 20.0\n",
       " 17.0\n",
       " 13.0\n",
       "  3.0\n",
       "  7.0\n",
       "  9.0\n",
       "  6.0\n",
       " 11.0\n",
       "  8.0\n",
       "  2.0\n",
       " 15.0\n",
       "  1.0\n",
       " 19.0\n",
       "  4.0"
      ]
     },
     "execution_count": 69,
     "metadata": {},
     "output_type": "execute_result"
    }
   ],
   "source": [
    "#rhsb = zeros(n)\n",
    "rhsb = randperm!(MersenneTwister(1234), Vector{Int}(undef, n))\n",
    "rhsb = float(rhsb)"
   ]
  },
  {
   "cell_type": "code",
   "execution_count": 70,
   "id": "0e0c1f5a",
   "metadata": {},
   "outputs": [
    {
     "data": {
      "text/plain": [
       "20-element Vector{Float64}:\n",
       " 0.0\n",
       " 0.0\n",
       " 0.0\n",
       " 0.0\n",
       " 0.0\n",
       " 0.0\n",
       " 0.0\n",
       " 0.0\n",
       " 0.0\n",
       " 0.0\n",
       " 0.0\n",
       " 0.0\n",
       " 0.0\n",
       " 0.0\n",
       " 0.0\n",
       " 0.0\n",
       " 0.0\n",
       " 0.0\n",
       " 0.0\n",
       " 0.0"
      ]
     },
     "execution_count": 70,
     "metadata": {},
     "output_type": "execute_result"
    }
   ],
   "source": [
    "#sol = randperm!(MersenneTwister(1234), Vector{Int}(undef, 10))\n",
    "sol = zeros(n) "
   ]
  },
  {
   "cell_type": "code",
   "execution_count": 79,
   "id": "421aa7c3",
   "metadata": {},
   "outputs": [
    {
     "ename": "LoadError",
     "evalue": "DimensionMismatch(\"second dimension of A, 20, does not match length of x, 2\")",
     "output_type": "error",
     "traceback": [
      "DimensionMismatch(\"second dimension of A, 20, does not match length of x, 2\")",
      "",
      "Stacktrace:",
      "  [1] gemv!(y::Vector{Float64}, tA::Char, A::Matrix{Float64}, x::Vector{Float64}, α::Bool, β::Bool)",
      "    @ LinearAlgebra C:\\Users\\Usuario\\AppData\\Local\\Programs\\Julia-1.7.1\\share\\julia\\stdlib\\v1.7\\LinearAlgebra\\src\\matmul.jl:530",
      "  [2] mul!",
      "    @ C:\\Users\\Usuario\\AppData\\Local\\Programs\\Julia-1.7.1\\share\\julia\\stdlib\\v1.7\\LinearAlgebra\\src\\matmul.jl:66 [inlined]",
      "  [3] mul!",
      "    @ C:\\Users\\Usuario\\AppData\\Local\\Programs\\Julia-1.7.1\\share\\julia\\stdlib\\v1.7\\LinearAlgebra\\src\\matmul.jl:275 [inlined]",
      "  [4] *",
      "    @ C:\\Users\\Usuario\\AppData\\Local\\Programs\\Julia-1.7.1\\share\\julia\\stdlib\\v1.7\\LinearAlgebra\\src\\matmul.jl:47 [inlined]",
      "  [5] CGM(A::Matrix{Float64}, b::Vector{Float64}, x0::Vector{Float64}, maxit::Int64, tol::Float64, verbose::Bool)",
      "    @ Main .\\In[75]:6",
      "  [6] CGM",
      "    @ .\\In[75]:5 [inlined]",
      "  [7] top-level scope",
      "    @ .\\timing.jl:220 [inlined]",
      "  [8] top-level scope",
      "    @ .\\In[79]:0",
      "  [9] eval",
      "    @ .\\boot.jl:373 [inlined]",
      " [10] include_string(mapexpr::typeof(REPL.softscope), mod::Module, code::String, filename::String)",
      "    @ Base .\\loading.jl:1196"
     ]
    }
   ],
   "source": [
    "@time res = CGM(A, rhsb, sol)\n",
    "println(res)"
   ]
  },
  {
   "cell_type": "code",
   "execution_count": null,
   "id": "f4249f2a",
   "metadata": {},
   "outputs": [],
   "source": []
  }
 ],
 "metadata": {
  "kernelspec": {
   "display_name": "Julia 1.7.1",
   "language": "julia",
   "name": "julia-1.7"
  },
  "language_info": {
   "file_extension": ".jl",
   "mimetype": "application/julia",
   "name": "julia",
   "version": "1.7.1"
  }
 },
 "nbformat": 4,
 "nbformat_minor": 5
}
