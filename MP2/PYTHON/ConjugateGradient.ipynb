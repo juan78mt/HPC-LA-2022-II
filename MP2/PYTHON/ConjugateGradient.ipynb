{
 "cells": [
  {
   "cell_type": "code",
   "execution_count": 32,
   "id": "fb94cdf6",
   "metadata": {},
   "outputs": [],
   "source": [
    "import math\n",
    "import numpy as np"
   ]
  },
  {
   "cell_type": "code",
   "execution_count": 33,
   "id": "37ce16f0",
   "metadata": {},
   "outputs": [],
   "source": [
    "def gaussSeidel(iterEqs, x, tol = 1.0e-9):\n",
    "    omega = 1.0\n",
    "    k = 10\n",
    "    p = 1\n",
    "    for i in range(1, 501):\n",
    "        xOld = x.copy()\n",
    "        x = iterEqs(x, omega)\n",
    "        dx = math.sqrt(np.dot(x-xOld, x - xOld))\n",
    "        if dx < tol:\n",
    "            return x, i, omega\n",
    "        \n",
    "        #Compute relaxation factor after k + p iterations\n",
    "        if i == k:\n",
    "            dx1 = dx\n",
    "        if i == k + p:\n",
    "            dx2 = dx\n",
    "            omega = 2.0 / (1.0 + math.sqrt(1.0 - (dx2/dx1)**(1.0/p)))\n",
    "            \n",
    "    print(\"Gauss-Seidel failed to converge\")"
   ]
  },
  {
   "cell_type": "code",
   "execution_count": 34,
   "id": "f514a874",
   "metadata": {},
   "outputs": [],
   "source": [
    "def conjGrad(Av, x, b, tol=1.0e-9):\n",
    "    n = len(b)\n",
    "    r = b - Av(x)\n",
    "    s = r.copy()\n",
    "    for i in range(n):\n",
    "        u = Av(s)\n",
    "        alpha = np.dot(s, r)/np.dot(s,u)\n",
    "        x = x + alpha*s\n",
    "        r = b - Av(x)\n",
    "        if(math.sqrt(np.dot(r,r))) < tol:\n",
    "            break\n",
    "        else:\n",
    "            beta = -np.dot(r,u)/np.dot(s,u)\n",
    "            s=r + beta*s\n",
    "    return x,i        "
   ]
  },
  {
   "cell_type": "code",
   "execution_count": 35,
   "id": "edfbbac8",
   "metadata": {},
   "outputs": [],
   "source": [
    "# Ax = B\n",
    "A = np.array([\n",
    "    [4.0, -1.0, 1.0],\n",
    "    [-1.0, 4.0, -2.0],\n",
    "    [1.0, -2.0, 4.0]\n",
    "])\n",
    "\n",
    "B = np.array([12.0, -1.0, 5.0])"
   ]
  },
  {
   "cell_type": "code",
   "execution_count": 36,
   "id": "edc28175",
   "metadata": {},
   "outputs": [
    {
     "name": "stdout",
     "output_type": "stream",
     "text": [
      "Number of equations ==> 15\n",
      "\n",
      "Number of iterations = 189\n",
      "\n",
      "Relaxation factor = 1.658402955129678\n",
      "\n",
      "The solution is:\n",
      " [-3.25 -2.75 -2.25 -1.75 -1.25 -0.75 -0.25  0.25  0.75  1.25  1.75  2.25\n",
      "  2.75  3.25  3.75]\n"
     ]
    }
   ],
   "source": [
    "#solucion usando la funcion de gaussSeidel\n",
    "def iterEqs(x,omega):\n",
    "    n = len(x)\n",
    "    x[0] = omega*(x[1] - x[n-1])/2.0 + (1.0 - omega)*x[0]\n",
    "    for i in range(1,n-1):\n",
    "        x[i] = omega*(x[i-1] + x[i+1])/2.0 + (1.0 - omega)*x[i]\n",
    "    x[n-1] = omega*(1.0 - x[0] + x[n-2])/2.0 + (1.0 - omega)*x[n-1]\n",
    "    return x\n",
    "\n",
    "n = eval(input(\"Number of equations ==> \"))\n",
    "x = np.zeros(n)\n",
    "x,numIter,omega = gaussSeidel(iterEqs,x)\n",
    "print(\"\\nNumber of iterations =\", numIter)\n",
    "print(\"\\nRelaxation factor =\", omega)\n",
    "print(\"\\nThe solution is:\\n\", x)\n"
   ]
  },
  {
   "cell_type": "markdown",
   "id": "7b11ba9c",
   "metadata": {},
   "source": [
    "solucion usando la funcion conjGrad\n",
    "\n"
   ]
  },
  {
   "cell_type": "code",
   "execution_count": 37,
   "id": "4cbc119c",
   "metadata": {},
   "outputs": [],
   "source": [
    "def Ax(v):  #to generate the coeffiecient matrix\n",
    "    n = len(v)\n",
    "    Ax = np.zeros(n)\n",
    "    Ax[0] = 2.0*v[0] - v[1]+v[n-1]\n",
    "    Ax[1:n-1] = -v[0:n-2] + 2.0*v[1:n-1] -v[2:n]\n",
    "    Ax[n-1] = -v[n-2] + 2.0*v[n-1] + v[0]\n",
    "    return Ax"
   ]
  },
  {
   "cell_type": "code",
   "execution_count": 39,
   "id": "e3ee13a5",
   "metadata": {},
   "outputs": [
    {
     "name": "stdout",
     "output_type": "stream",
     "text": [
      "Number of equations ==> 10\n",
      "\n",
      "The solution is:\n",
      " [-2.  -1.5 -1.  -0.5  0.   0.5  1.   1.5  2.   2.5]\n",
      "\n",
      "Number of iterations = 4\n"
     ]
    }
   ],
   "source": [
    "n = eval(input(\"Number of equations ==> \"))\n",
    "b = np.zeros(n)\n",
    "b[n-1] = 1.0\n",
    "x = np.zeros(n)\n",
    "x,numIter = conjGrad(Ax,x,b)\n",
    "print(\"\\nThe solution is:\\n\", x)\n",
    "print(\"\\nNumber of iterations =\",numIter)"
   ]
  },
  {
   "cell_type": "markdown",
   "id": "bea7a58d",
   "metadata": {},
   "source": [
    "Another example"
   ]
  },
  {
   "cell_type": "code",
   "execution_count": 24,
   "id": "ace933c3",
   "metadata": {},
   "outputs": [],
   "source": [
    "def iterEqs(x):\n",
    "    A = np.array([\n",
    "        [4.0, -1.0, 1.0],\n",
    "        [-1.0, 4.0, -2.0],\n",
    "        [1.0, -2.0, 4.0]\n",
    "    ])\n",
    "    B = np.array([12.0, -1.0, 5.0])\n",
    "    n = len(x)\n",
    "    for i in range(0,n):\n",
    "        x[i] = (B[i]-sum(A[i,np.arange(0,n)!=i]*x[np.arange(0,n)!=i]))/A\n",
    "    print(\"x=\",x)\n",
    "    return x"
   ]
  },
  {
   "cell_type": "code",
   "execution_count": 25,
   "id": "075b3372",
   "metadata": {},
   "outputs": [],
   "source": [
    "def gaussSeidel(iterEqs,x,tol=0.00001):\n",
    "    k = 10\n",
    "    p = 1\n",
    "    for i in range(1,20):\n",
    "        print(\"Iter = \",i)\n",
    "        xOld = x.copy()\n",
    "        x = iterEqs(x)\n",
    "        dx = math.sqrt(np.dot(x-xOld,x-xOld))\n",
    "        print(\"Error= \", dx)\n",
    "        if dx < tol:\n",
    "            return x,i\n",
    "        \n",
    "    print(\"Gauss-Seidel failed to converge\")"
   ]
  },
  {
   "cell_type": "code",
   "execution_count": 21,
   "id": "acc25948",
   "metadata": {},
   "outputs": [
    {
     "name": "stdout",
     "output_type": "stream",
     "text": [
      "Iter =  1\n"
     ]
    },
    {
     "ename": "ValueError",
     "evalue": "setting an array element with a sequence.",
     "output_type": "error",
     "traceback": [
      "\u001b[1;31m---------------------------------------------------------------------------\u001b[0m",
      "\u001b[1;31mTypeError\u001b[0m                                 Traceback (most recent call last)",
      "\u001b[1;31mTypeError\u001b[0m: only size-1 arrays can be converted to Python scalars",
      "\nThe above exception was the direct cause of the following exception:\n",
      "\u001b[1;31mValueError\u001b[0m                                Traceback (most recent call last)",
      "\u001b[1;32m~\\AppData\\Local\\Temp\\ipykernel_19200\\4273587561.py\u001b[0m in \u001b[0;36m<module>\u001b[1;34m\u001b[0m\n\u001b[0;32m      1\u001b[0m \u001b[0mx\u001b[0m \u001b[1;33m=\u001b[0m \u001b[0mnp\u001b[0m\u001b[1;33m.\u001b[0m\u001b[0mzeros\u001b[0m\u001b[1;33m(\u001b[0m\u001b[1;36m3\u001b[0m\u001b[1;33m)\u001b[0m\u001b[1;33m\u001b[0m\u001b[1;33m\u001b[0m\u001b[0m\n\u001b[1;32m----> 2\u001b[1;33m \u001b[0mx\u001b[0m\u001b[1;33m,\u001b[0m\u001b[0mnumIter\u001b[0m \u001b[1;33m=\u001b[0m \u001b[0mgaussSeidel\u001b[0m\u001b[1;33m(\u001b[0m\u001b[0miterEqs\u001b[0m\u001b[1;33m,\u001b[0m\u001b[0mx\u001b[0m\u001b[1;33m)\u001b[0m\u001b[1;33m\u001b[0m\u001b[1;33m\u001b[0m\u001b[0m\n\u001b[0m\u001b[0;32m      3\u001b[0m \u001b[0mprint\u001b[0m\u001b[1;33m(\u001b[0m\u001b[1;34m\"\\nNumber of iterations =\"\u001b[0m\u001b[1;33m,\u001b[0m\u001b[0mnumIter\u001b[0m\u001b[1;33m)\u001b[0m\u001b[1;33m\u001b[0m\u001b[1;33m\u001b[0m\u001b[0m\n\u001b[0;32m      4\u001b[0m \u001b[0mprint\u001b[0m\u001b[1;33m(\u001b[0m\u001b[1;34m\"\\nThe solution is:\\n\"\u001b[0m\u001b[1;33m,\u001b[0m\u001b[0mx\u001b[0m\u001b[1;33m)\u001b[0m\u001b[1;33m\u001b[0m\u001b[1;33m\u001b[0m\u001b[0m\n",
      "\u001b[1;32m~\\AppData\\Local\\Temp\\ipykernel_19200\\3583802277.py\u001b[0m in \u001b[0;36mgaussSeidel\u001b[1;34m(iterEqs, x, tol)\u001b[0m\n\u001b[0;32m      5\u001b[0m         \u001b[0mprint\u001b[0m\u001b[1;33m(\u001b[0m\u001b[1;34m\"Iter = \"\u001b[0m\u001b[1;33m,\u001b[0m\u001b[0mi\u001b[0m\u001b[1;33m)\u001b[0m\u001b[1;33m\u001b[0m\u001b[1;33m\u001b[0m\u001b[0m\n\u001b[0;32m      6\u001b[0m         \u001b[0mxOld\u001b[0m \u001b[1;33m=\u001b[0m \u001b[0mx\u001b[0m\u001b[1;33m.\u001b[0m\u001b[0mcopy\u001b[0m\u001b[1;33m(\u001b[0m\u001b[1;33m)\u001b[0m\u001b[1;33m\u001b[0m\u001b[1;33m\u001b[0m\u001b[0m\n\u001b[1;32m----> 7\u001b[1;33m         \u001b[0mx\u001b[0m \u001b[1;33m=\u001b[0m \u001b[0miterEqs\u001b[0m\u001b[1;33m(\u001b[0m\u001b[0mx\u001b[0m\u001b[1;33m)\u001b[0m\u001b[1;33m\u001b[0m\u001b[1;33m\u001b[0m\u001b[0m\n\u001b[0m\u001b[0;32m      8\u001b[0m         \u001b[0mdx\u001b[0m \u001b[1;33m=\u001b[0m \u001b[0mmath\u001b[0m\u001b[1;33m.\u001b[0m\u001b[0msqrt\u001b[0m\u001b[1;33m(\u001b[0m\u001b[0mnp\u001b[0m\u001b[1;33m.\u001b[0m\u001b[0mdot\u001b[0m\u001b[1;33m(\u001b[0m\u001b[0mx\u001b[0m\u001b[1;33m-\u001b[0m\u001b[0mxOld\u001b[0m\u001b[1;33m,\u001b[0m\u001b[0mx\u001b[0m\u001b[1;33m-\u001b[0m\u001b[0mxOld\u001b[0m\u001b[1;33m)\u001b[0m\u001b[1;33m)\u001b[0m\u001b[1;33m\u001b[0m\u001b[1;33m\u001b[0m\u001b[0m\n\u001b[0;32m      9\u001b[0m         \u001b[0mprint\u001b[0m\u001b[1;33m(\u001b[0m\u001b[1;34m\"Error= \"\u001b[0m\u001b[1;33m,\u001b[0m \u001b[0mdx\u001b[0m\u001b[1;33m)\u001b[0m\u001b[1;33m\u001b[0m\u001b[1;33m\u001b[0m\u001b[0m\n",
      "\u001b[1;32m~\\AppData\\Local\\Temp\\ipykernel_19200\\1240598941.py\u001b[0m in \u001b[0;36miterEqs\u001b[1;34m(x)\u001b[0m\n\u001b[0;32m      8\u001b[0m     \u001b[0mn\u001b[0m \u001b[1;33m=\u001b[0m \u001b[0mlen\u001b[0m\u001b[1;33m(\u001b[0m\u001b[0mx\u001b[0m\u001b[1;33m)\u001b[0m\u001b[1;33m\u001b[0m\u001b[1;33m\u001b[0m\u001b[0m\n\u001b[0;32m      9\u001b[0m     \u001b[1;32mfor\u001b[0m \u001b[0mi\u001b[0m \u001b[1;32min\u001b[0m \u001b[0mrange\u001b[0m\u001b[1;33m(\u001b[0m\u001b[1;36m0\u001b[0m\u001b[1;33m,\u001b[0m\u001b[0mn\u001b[0m\u001b[1;33m)\u001b[0m\u001b[1;33m:\u001b[0m\u001b[1;33m\u001b[0m\u001b[1;33m\u001b[0m\u001b[0m\n\u001b[1;32m---> 10\u001b[1;33m         \u001b[0mx\u001b[0m\u001b[1;33m[\u001b[0m\u001b[0mi\u001b[0m\u001b[1;33m]\u001b[0m \u001b[1;33m=\u001b[0m \u001b[1;33m(\u001b[0m\u001b[0mB\u001b[0m\u001b[1;33m[\u001b[0m\u001b[0mi\u001b[0m\u001b[1;33m]\u001b[0m\u001b[1;33m-\u001b[0m\u001b[0msum\u001b[0m\u001b[1;33m(\u001b[0m\u001b[0mA\u001b[0m\u001b[1;33m[\u001b[0m\u001b[0mi\u001b[0m\u001b[1;33m,\u001b[0m\u001b[0mnp\u001b[0m\u001b[1;33m.\u001b[0m\u001b[0marange\u001b[0m\u001b[1;33m(\u001b[0m\u001b[1;36m0\u001b[0m\u001b[1;33m,\u001b[0m\u001b[0mn\u001b[0m\u001b[1;33m)\u001b[0m\u001b[1;33m!=\u001b[0m\u001b[0mi\u001b[0m\u001b[1;33m]\u001b[0m\u001b[1;33m*\u001b[0m\u001b[0mx\u001b[0m\u001b[1;33m[\u001b[0m\u001b[0mnp\u001b[0m\u001b[1;33m.\u001b[0m\u001b[0marange\u001b[0m\u001b[1;33m(\u001b[0m\u001b[1;36m0\u001b[0m\u001b[1;33m,\u001b[0m\u001b[0mn\u001b[0m\u001b[1;33m)\u001b[0m\u001b[1;33m!=\u001b[0m\u001b[0mi\u001b[0m\u001b[1;33m]\u001b[0m\u001b[1;33m)\u001b[0m\u001b[1;33m)\u001b[0m\u001b[1;33m/\u001b[0m\u001b[0mA\u001b[0m\u001b[1;33m\u001b[0m\u001b[1;33m\u001b[0m\u001b[0m\n\u001b[0m\u001b[0;32m     11\u001b[0m     \u001b[0mprint\u001b[0m\u001b[1;33m(\u001b[0m\u001b[1;34m\"x=\"\u001b[0m\u001b[1;33m,\u001b[0m\u001b[0mx\u001b[0m\u001b[1;33m)\u001b[0m\u001b[1;33m\u001b[0m\u001b[1;33m\u001b[0m\u001b[0m\n\u001b[0;32m     12\u001b[0m     \u001b[1;32mreturn\u001b[0m \u001b[0mx\u001b[0m\u001b[1;33m\u001b[0m\u001b[1;33m\u001b[0m\u001b[0m\n",
      "\u001b[1;31mValueError\u001b[0m: setting an array element with a sequence."
     ]
    }
   ],
   "source": [
    "x = np.zeros(3)\n",
    "x,numIter = gaussSeidel(iterEqs,x)\n",
    "print(\"\\nNumber of iterations =\",numIter)\n",
    "print(\"\\nThe solution is:\\n\",x)"
   ]
  },
  {
   "cell_type": "code",
   "execution_count": null,
   "id": "6a2ad685",
   "metadata": {},
   "outputs": [],
   "source": []
  }
 ],
 "metadata": {
  "kernelspec": {
   "display_name": "Python 3 (ipykernel)",
   "language": "python",
   "name": "python3"
  },
  "language_info": {
   "codemirror_mode": {
    "name": "ipython",
    "version": 3
   },
   "file_extension": ".py",
   "mimetype": "text/x-python",
   "name": "python",
   "nbconvert_exporter": "python",
   "pygments_lexer": "ipython3",
   "version": "3.9.7"
  }
 },
 "nbformat": 4,
 "nbformat_minor": 5
}
